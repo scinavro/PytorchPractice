{
 "cells": [
  {
   "cell_type": "code",
   "execution_count": 2,
   "metadata": {},
   "outputs": [],
   "source": [
    "from __future__ import print_function\n",
    "import torch"
   ]
  },
  {
   "cell_type": "code",
   "execution_count": 3,
   "metadata": {},
   "outputs": [
    {
     "name": "stdout",
     "output_type": "stream",
     "text": [
      "tensor([[1.0561e-38, 1.0653e-38, 4.1327e-39],\n",
      "        [8.9082e-39, 9.8265e-39, 9.4592e-39],\n",
      "        [1.0561e-38, 1.0653e-38, 1.0469e-38],\n",
      "        [9.5510e-39, 8.7245e-39, 9.0918e-39],\n",
      "        [1.0102e-38, 9.6429e-39, 8.7245e-39]])\n"
     ]
    }
   ],
   "source": [
    "x = torch.empty(5, 3)\n",
    "print(x)"
   ]
  },
  {
   "cell_type": "code",
   "execution_count": 4,
   "metadata": {},
   "outputs": [
    {
     "name": "stdout",
     "output_type": "stream",
     "text": [
      "tensor([[0.3907, 0.8093, 0.9825],\n",
      "        [0.9177, 0.2012, 0.7823],\n",
      "        [0.8638, 0.0129, 0.7354],\n",
      "        [0.7532, 0.7521, 0.1754],\n",
      "        [0.5915, 0.0016, 0.5623]])\n"
     ]
    }
   ],
   "source": [
    "x = torch.rand(5, 3)\n",
    "print(x)"
   ]
  },
  {
   "cell_type": "code",
   "execution_count": 5,
   "metadata": {},
   "outputs": [
    {
     "name": "stdout",
     "output_type": "stream",
     "text": [
      "tensor([[0, 0, 0],\n",
      "        [0, 0, 0],\n",
      "        [0, 0, 0],\n",
      "        [0, 0, 0],\n",
      "        [0, 0, 0]])\n"
     ]
    }
   ],
   "source": [
    "x = torch.zeros(5, 3, dtype = torch.long)\n",
    "print(x)"
   ]
  },
  {
   "cell_type": "code",
   "execution_count": 9,
   "metadata": {},
   "outputs": [
    {
     "name": "stdout",
     "output_type": "stream",
     "text": [
      "tensor([5.5000, 3.0000])\n"
     ]
    }
   ],
   "source": [
    "x = torch.tensor([5.5, 3])\n",
    "print(x)"
   ]
  },
  {
   "cell_type": "code",
   "execution_count": 15,
   "metadata": {},
   "outputs": [
    {
     "name": "stdout",
     "output_type": "stream",
     "text": [
      "tensor([[1., 1., 1.],\n",
      "        [1., 1., 1.],\n",
      "        [1., 1., 1.],\n",
      "        [1., 1., 1.],\n",
      "        [1., 1., 1.]], dtype=torch.float64)\n"
     ]
    }
   ],
   "source": [
    "x = x.new_ones(5, 3, dtype = torch.double)\n",
    "print(x)"
   ]
  },
  {
   "cell_type": "code",
   "execution_count": 33,
   "metadata": {},
   "outputs": [
    {
     "name": "stdout",
     "output_type": "stream",
     "text": [
      "tensor([[-1.4442, -0.7072,  0.8800],\n",
      "        [-0.0817,  1.1358, -0.4964],\n",
      "        [ 0.0322,  0.0906,  0.3352],\n",
      "        [ 0.6880,  0.5913, -1.6384],\n",
      "        [-0.9879, -0.2884, -1.3471]])\n"
     ]
    }
   ],
   "source": [
    "x = torch.randn_like(x, dtype = torch.float)\n",
    "print(x)"
   ]
  },
  {
   "cell_type": "code",
   "execution_count": 34,
   "metadata": {},
   "outputs": [
    {
     "name": "stdout",
     "output_type": "stream",
     "text": [
      "torch.Size([5, 3])\n"
     ]
    }
   ],
   "source": [
    "print(x.size())"
   ]
  },
  {
   "cell_type": "code",
   "execution_count": 35,
   "metadata": {},
   "outputs": [
    {
     "name": "stdout",
     "output_type": "stream",
     "text": [
      "tensor([[-1.2986,  0.2634,  1.8600],\n",
      "        [ 0.0456,  2.0237, -0.2796],\n",
      "        [ 0.4005,  0.0946,  1.2589],\n",
      "        [ 1.1679,  1.4352, -0.8925],\n",
      "        [-0.0319,  0.0206, -0.9220]])\n"
     ]
    }
   ],
   "source": [
    "y = torch.rand(5, 3)\n",
    "print(x + y)"
   ]
  },
  {
   "cell_type": "code",
   "execution_count": 36,
   "metadata": {},
   "outputs": [
    {
     "name": "stdout",
     "output_type": "stream",
     "text": [
      "tensor([[-1.2986,  0.2634,  1.8600],\n",
      "        [ 0.0456,  2.0237, -0.2796],\n",
      "        [ 0.4005,  0.0946,  1.2589],\n",
      "        [ 1.1679,  1.4352, -0.8925],\n",
      "        [-0.0319,  0.0206, -0.9220]])\n"
     ]
    }
   ],
   "source": [
    "print(torch.add(x, y))"
   ]
  },
  {
   "cell_type": "code",
   "execution_count": 37,
   "metadata": {},
   "outputs": [
    {
     "name": "stdout",
     "output_type": "stream",
     "text": [
      "tensor([[-1.2986,  0.2634,  1.8600],\n",
      "        [ 0.0456,  2.0237, -0.2796],\n",
      "        [ 0.4005,  0.0946,  1.2589],\n",
      "        [ 1.1679,  1.4352, -0.8925],\n",
      "        [-0.0319,  0.0206, -0.9220]])\n"
     ]
    }
   ],
   "source": [
    "result = torch.empty(5, 3)\n",
    "torch.add(x, y, out = result)\n",
    "print(result)"
   ]
  },
  {
   "cell_type": "code",
   "execution_count": 38,
   "metadata": {},
   "outputs": [
    {
     "data": {
      "text/plain": [
       "tensor([[-1.2986,  0.2634,  1.8600],\n",
       "        [ 0.0456,  2.0237, -0.2796],\n",
       "        [ 0.4005,  0.0946,  1.2589],\n",
       "        [ 1.1679,  1.4352, -0.8925],\n",
       "        [-0.0319,  0.0206, -0.9220]])"
      ]
     },
     "execution_count": 38,
     "metadata": {},
     "output_type": "execute_result"
    }
   ],
   "source": [
    "y.add_(x)"
   ]
  },
  {
   "cell_type": "code",
   "execution_count": 44,
   "metadata": {},
   "outputs": [
    {
     "name": "stdout",
     "output_type": "stream",
     "text": [
      "tensor([-0.7072,  1.1358,  0.0906,  0.5913, -0.2884])\n"
     ]
    }
   ],
   "source": [
    "print(x[:, 1])"
   ]
  },
  {
   "cell_type": "code",
   "execution_count": 53,
   "metadata": {},
   "outputs": [
    {
     "name": "stdout",
     "output_type": "stream",
     "text": [
      "tensor([[-0.3140, -0.3819,  0.4379, -0.3467],\n",
      "        [-0.4064, -1.5763,  0.0659, -2.0689],\n",
      "        [-1.6425, -0.0929,  0.5261,  0.4297],\n",
      "        [-0.7704,  1.2703, -1.3102, -0.9120]])\n",
      "tensor([-0.3140, -0.3819,  0.4379, -0.3467, -0.4064, -1.5763,  0.0659, -2.0689,\n",
      "        -1.6425, -0.0929,  0.5261,  0.4297, -0.7704,  1.2703, -1.3102, -0.9120])\n",
      "tensor([[-0.3140, -0.3819,  0.4379, -0.3467],\n",
      "        [-0.4064, -1.5763,  0.0659, -2.0689],\n",
      "        [-1.6425, -0.0929,  0.5261,  0.4297],\n",
      "        [-0.7704,  1.2703, -1.3102, -0.9120]])\n",
      "torch.Size([4, 4]) torch.Size([16]) torch.Size([4, 4])\n"
     ]
    }
   ],
   "source": [
    "x = torch.randn(4, 4)\n",
    "y = x.view(16)\n",
    "z = x.view(-1, 4)\n",
    "\n",
    "print(x)\n",
    "print(y)\n",
    "print(z)\n",
    "\n",
    "print(x.size(), y.size(), z.size())"
   ]
  },
  {
   "cell_type": "code",
   "execution_count": 54,
   "metadata": {},
   "outputs": [
    {
     "name": "stdout",
     "output_type": "stream",
     "text": [
      "tensor([-0.8361])\n",
      "-0.8361290693283081\n"
     ]
    }
   ],
   "source": [
    "x = torch.randn(1)\n",
    "print(x)\n",
    "print(x.item())"
   ]
  },
  {
   "cell_type": "code",
   "execution_count": 56,
   "metadata": {},
   "outputs": [
    {
     "name": "stdout",
     "output_type": "stream",
     "text": [
      "[2. 2. 2. 2. 2.]\n",
      "tensor([2., 2., 2., 2., 2.], dtype=torch.float64)\n"
     ]
    }
   ],
   "source": [
    "#Numpy 배열을 Torch Tensor로 변환하기\n",
    "import numpy as np\n",
    "a = np.ones(5)\n",
    "b = torch.from_numpy(a)\n",
    "np.add(a, 1, out=a)\n",
    "print(a)\n",
    "print(b)"
   ]
  },
  {
   "cell_type": "code",
   "execution_count": null,
   "metadata": {},
   "outputs": [],
   "source": []
  }
 ],
 "metadata": {
  "kernelspec": {
   "display_name": "Python 3",
   "language": "python",
   "name": "python3"
  },
  "language_info": {
   "codemirror_mode": {
    "name": "ipython",
    "version": 3
   },
   "file_extension": ".py",
   "mimetype": "text/x-python",
   "name": "python",
   "nbconvert_exporter": "python",
   "pygments_lexer": "ipython3",
   "version": "3.8.5"
  }
 },
 "nbformat": 4,
 "nbformat_minor": 4
}
